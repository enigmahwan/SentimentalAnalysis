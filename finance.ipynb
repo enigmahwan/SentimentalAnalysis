{
 "cells": [
  {
   "cell_type": "code",
   "execution_count": 3,
   "metadata": {},
   "outputs": [],
   "source": [
    "import requests\n",
    "from bs4 import BeautifulSoup\n",
    "import json\n",
    "import time\n",
    "import re\n",
    "import pandas as pd\n",
    "import numpy as np \n",
    "import os "
   ]
  },
  {
   "cell_type": "code",
   "execution_count": 4,
   "metadata": {
    "scrolled": true
   },
   "outputs": [
    {
     "data": {
      "text/html": [
       "<div>\n",
       "<style scoped>\n",
       "    .dataframe tbody tr th:only-of-type {\n",
       "        vertical-align: middle;\n",
       "    }\n",
       "\n",
       "    .dataframe tbody tr th {\n",
       "        vertical-align: top;\n",
       "    }\n",
       "\n",
       "    .dataframe thead th {\n",
       "        text-align: right;\n",
       "    }\n",
       "</style>\n",
       "<table border=\"1\" class=\"dataframe\">\n",
       "  <thead>\n",
       "    <tr style=\"text-align: right;\">\n",
       "      <th></th>\n",
       "      <th>code</th>\n",
       "      <th>name</th>\n",
       "    </tr>\n",
       "  </thead>\n",
       "  <tbody>\n",
       "    <tr>\n",
       "      <th>0</th>\n",
       "      <td>500023</td>\n",
       "      <td>신한 콩 선물 ETN(H)</td>\n",
       "    </tr>\n",
       "    <tr>\n",
       "      <th>0</th>\n",
       "      <td>500039</td>\n",
       "      <td>신한 코스피 콘도르 4/10% ETN</td>\n",
       "    </tr>\n",
       "    <tr>\n",
       "      <th>0</th>\n",
       "      <td>500021</td>\n",
       "      <td>신한 천연가스 선물 ETN(H)</td>\n",
       "    </tr>\n",
       "    <tr>\n",
       "      <th>0</th>\n",
       "      <td>500024</td>\n",
       "      <td>신한 인버스 콩 선물 ETN(H)</td>\n",
       "    </tr>\n",
       "    <tr>\n",
       "      <th>0</th>\n",
       "      <td>500022</td>\n",
       "      <td>신한 인버스 천연가스 선물 ETN(H)</td>\n",
       "    </tr>\n",
       "  </tbody>\n",
       "</table>\n",
       "</div>"
      ],
      "text/plain": [
       "     code                   name\n",
       "0  500023         신한 콩 선물 ETN(H)\n",
       "0  500039   신한 코스피 콘도르 4/10% ETN\n",
       "0  500021      신한 천연가스 선물 ETN(H)\n",
       "0  500024     신한 인버스 콩 선물 ETN(H)\n",
       "0  500022  신한 인버스 천연가스 선물 ETN(H)"
      ]
     },
     "execution_count": 4,
     "metadata": {},
     "output_type": "execute_result"
    }
   ],
   "source": [
    "#종목코드 \n",
    "url = \"http://comp.fnguide.com/XML/Market/CompanyList.txt\"\n",
    "resp = requests.get(url)\n",
    "json_data = resp.content\n",
    "\n",
    "my_dic = json.loads(json_data, strict=False)\n",
    "data = my_dic['Co']\n",
    "\n",
    "codes = pd.DataFrame()\n",
    "for i in range(0, len(data)):\n",
    "    d = {'code' : [data[i]['cd'][1:len(data[i]['cd'])]],\n",
    "         'name' : [data[i]['nm']]}\n",
    "    temp = pd.DataFrame(d)\n",
    "    codes = pd.concat([temp, codes], axis = 0)\n",
    "codes.head()"
   ]
  },
  {
   "cell_type": "code",
   "execution_count": 5,
   "metadata": {},
   "outputs": [],
   "source": [
    "def deep_crawl(url):\n",
    "    try:\n",
    "        resp = requests.get(str(url))\n",
    "        html = resp.text\n",
    "\n",
    "        soup = BeautifulSoup(html, \"html5lib\")\n",
    "        temp = soup.select(\"#body\")\n",
    "        return temp[0].text\n",
    "    except:\n",
    "        return 0\n",
    "\n",
    "def crawl(code, page):\n",
    "    try :\n",
    "        time.sleep(2)\n",
    "\n",
    "        url = \"https://finance.naver.com/item/board.nhn?code=\"+code+\"&page=\"+page\n",
    "        resp = requests.get(url)\n",
    "        html = resp.text\n",
    "\n",
    "        soup = BeautifulSoup(html, \"html5lib\")\n",
    "\n",
    "        deep_url=[]\n",
    "        for anchor in soup.findAll('a', href=re.compile(\"^(/item/board_read.nhn?)\")):\n",
    "            deep_url.append(anchor['href'])\n",
    "\n",
    "        opinion = soup.select(\"#content > div.section.inner_sub > table.type2 > tbody > tr > td.tc > span\")\n",
    "        rec_count = soup.select(\"#content > div.section.inner_sub > table.type2 > tbody > tr > td > strong\")\n",
    "        sec_count = soup.select(\"#content > div.section.inner_sub > table.type2 > tbody > tr > td:nth-of-type(5) > span.tah\")\n",
    "        date = soup.select(\"#content > div.section.inner_sub > table.type2 > tbody > tr > td:nth-of-type(1) > span.tah\")\n",
    "\n",
    "        df = pd.DataFrame()\n",
    "        for i in range(0, len(opinion)):\n",
    "            temp = str(page) + \"번째 페이지의 \"+str(i)+\"번째_게시글\"\n",
    "            d = {'rank' : [temp],\n",
    "                 'date' : [date[0].text],\n",
    "                 'opinion': [opinion[0].text],\n",
    "                 'description' : [deep_crawl(\"https://finance.naver.com\"+deep_url[i])],\n",
    "                 'rec': [rec_count[0].text], \n",
    "                 'click_count': [sec_count[0].text]}\n",
    "\n",
    "            temp = pd.DataFrame(d)\n",
    "            df = pd.concat([temp, df],axis=0)\n",
    "        df['code'] = str(code)\n",
    "        return df\n",
    "    except:\n",
    "        return 0"
   ]
  },
  {
   "cell_type": "code",
   "execution_count": 79,
   "metadata": {
    "scrolled": true
   },
   "outputs": [
    {
     "name": "stdout",
     "output_type": "stream",
     "text": [
      "\n",
      "종목명 : 덕산하이메탈\n",
      "1 번째 페이지 크롤링 중...\n",
      "2 번째 페이지 크롤링 중...\n",
      "\n",
      "종목명 : 덕산네오룩스\n",
      "1 번째 페이지 크롤링 중...\n",
      "2 번째 페이지 크롤링 중...\n"
     ]
    }
   ],
   "source": [
    "df = pd.DataFrame()\n",
    "for i in range(2500,2502):\n",
    "    print(\"\\n종목명 : %s\"%codes['name'].iloc[i])\n",
    "    for j in range(1,3):\n",
    "        print(\"%d 번째 페이지 크롤링 중...\"%j)\n",
    "        temp = crawl(codes['code'].iloc[i],str(j))\n",
    "        df = pd.concat([temp,df], axis= 0)"
   ]
  },
  {
   "cell_type": "code",
   "execution_count": 7,
   "metadata": {},
   "outputs": [
    {
     "data": {
      "text/html": [
       "<div>\n",
       "<style scoped>\n",
       "    .dataframe tbody tr th:only-of-type {\n",
       "        vertical-align: middle;\n",
       "    }\n",
       "\n",
       "    .dataframe tbody tr th {\n",
       "        vertical-align: top;\n",
       "    }\n",
       "\n",
       "    .dataframe thead th {\n",
       "        text-align: right;\n",
       "    }\n",
       "</style>\n",
       "<table border=\"1\" class=\"dataframe\">\n",
       "  <thead>\n",
       "    <tr style=\"text-align: right;\">\n",
       "      <th></th>\n",
       "      <th>click_count</th>\n",
       "      <th>date</th>\n",
       "      <th>description</th>\n",
       "      <th>opinion</th>\n",
       "      <th>rank</th>\n",
       "      <th>rec</th>\n",
       "      <th>code</th>\n",
       "    </tr>\n",
       "  </thead>\n",
       "  <tbody>\n",
       "    <tr>\n",
       "      <th>0</th>\n",
       "      <td>84</td>\n",
       "      <td>2018.11.23 20:14</td>\n",
       "      <td>ㅎㅎㅎ 뭐가 있네 있어 ㅋ</td>\n",
       "      <td>의견없음</td>\n",
       "      <td>1번째 페이지의 19번째_게시글</td>\n",
       "      <td>0</td>\n",
       "      <td>234100</td>\n",
       "    </tr>\n",
       "    <tr>\n",
       "      <th>0</th>\n",
       "      <td>84</td>\n",
       "      <td>2018.11.23 20:14</td>\n",
       "      <td>ㅋㅋㅋㅋ</td>\n",
       "      <td>의견없음</td>\n",
       "      <td>1번째 페이지의 18번째_게시글</td>\n",
       "      <td>0</td>\n",
       "      <td>234100</td>\n",
       "    </tr>\n",
       "    <tr>\n",
       "      <th>0</th>\n",
       "      <td>84</td>\n",
       "      <td>2018.11.23 20:14</td>\n",
       "      <td>세력들 1,500원부터 매집해 지금 마지막 패데기 시점이고\\n\\n지들끼리 사고 팔고...</td>\n",
       "      <td>의견없음</td>\n",
       "      <td>1번째 페이지의 17번째_게시글</td>\n",
       "      <td>0</td>\n",
       "      <td>234100</td>\n",
       "    </tr>\n",
       "    <tr>\n",
       "      <th>0</th>\n",
       "      <td>84</td>\n",
       "      <td>2018.11.23 20:14</td>\n",
       "      <td>뇌동매매 하는 거지같은 개미들아 ^^ \\n\\n잘먹고 잘간다~\\n\\n늬들이 있어서 행...</td>\n",
       "      <td>의견없음</td>\n",
       "      <td>1번째 페이지의 16번째_게시글</td>\n",
       "      <td>0</td>\n",
       "      <td>234100</td>\n",
       "    </tr>\n",
       "    <tr>\n",
       "      <th>0</th>\n",
       "      <td>84</td>\n",
       "      <td>2018.11.23 20:14</td>\n",
       "      <td>ㅎㅎㅎ</td>\n",
       "      <td>의견없음</td>\n",
       "      <td>1번째 페이지의 15번째_게시글</td>\n",
       "      <td>0</td>\n",
       "      <td>234100</td>\n",
       "    </tr>\n",
       "  </tbody>\n",
       "</table>\n",
       "</div>"
      ],
      "text/plain": [
       "  click_count              date  \\\n",
       "0          84  2018.11.23 20:14   \n",
       "0          84  2018.11.23 20:14   \n",
       "0          84  2018.11.23 20:14   \n",
       "0          84  2018.11.23 20:14   \n",
       "0          84  2018.11.23 20:14   \n",
       "\n",
       "                                         description opinion  \\\n",
       "0                                     ㅎㅎㅎ 뭐가 있네 있어 ㅋ    의견없음   \n",
       "0                                               ㅋㅋㅋㅋ    의견없음   \n",
       "0  세력들 1,500원부터 매집해 지금 마지막 패데기 시점이고\\n\\n지들끼리 사고 팔고...    의견없음   \n",
       "0  뇌동매매 하는 거지같은 개미들아 ^^ \\n\\n잘먹고 잘간다~\\n\\n늬들이 있어서 행...    의견없음   \n",
       "0                                                ㅎㅎㅎ    의견없음   \n",
       "\n",
       "                rank rec    code  \n",
       "0  1번째 페이지의 19번째_게시글   0  234100  \n",
       "0  1번째 페이지의 18번째_게시글   0  234100  \n",
       "0  1번째 페이지의 17번째_게시글   0  234100  \n",
       "0  1번째 페이지의 16번째_게시글   0  234100  \n",
       "0  1번째 페이지의 15번째_게시글   0  234100  "
      ]
     },
     "execution_count": 7,
     "metadata": {},
     "output_type": "execute_result"
    }
   ],
   "source": [
    "df.head()"
   ]
  },
  {
   "cell_type": "code",
   "execution_count": 51,
   "metadata": {},
   "outputs": [],
   "source": [
    "import json\n",
    "\n",
    "class KnuSL():\n",
    "    def data_list(wordname):\n",
    "        with open('C:/Users/user/Desktop/Dev/SentiWord_info.json', encoding='utf-8-sig', mode='r') as f:\n",
    "                data = json.load(f)\n",
    "        result = ['None','None']\n",
    "        for i in range(0, len(data)):\n",
    "            if data[i]['word'] == wordname:\n",
    "                result.pop()\n",
    "                result.pop()\n",
    "                result.append(data[i]['word_root'])\n",
    "                result.append(data[i]['polarity'])\t\n",
    "\n",
    "        r_word = result[0]\n",
    "        s_word = result[1]\n",
    "\n",
    "        return r_word, s_word"
   ]
  },
  {
   "cell_type": "code",
   "execution_count": 77,
   "metadata": {},
   "outputs": [
    {
     "name": "stdout",
     "output_type": "stream",
     "text": [
      "\n",
      "KNU 한국어 감성사전입니다~ :)\n",
      "사전에 단어가 없는 경우 결과가 None으로 나타납니다!!!\n",
      "-2:매우 부정, -1:부정, 0:중립 or Unkwon, 1:긍정, 2:매우 긍정\n"
     ]
    }
   ],
   "source": [
    "ksl = KnuSL\n",
    "\n",
    "print(\"\\nKNU 한국어 감성사전입니다~ :)\")\n",
    "print(\"사전에 단어가 없는 경우 결과가 None으로 나타납니다!!!\")\n",
    "print(\"-2:매우 부정, -1:부정, 0:중립 or Unkwon, 1:긍정, 2:매우 긍정\")\n",
    "\n",
    "wordname = df['description']\n",
    "result = []\n",
    "wordname = wordname.apply(lambda x: x.split(' '))\n",
    "for i in range(0, len(wordname)):\n",
    "    temp = wordname.iloc[i]\n",
    "    temp2 = 0\n",
    "    for j in range(0, len(temp)):\n",
    "        r_word, s_word = ksl.data_list(temp[j])\n",
    "        try:\n",
    "            temp2 = temp2+int(s_word)\n",
    "        except:\n",
    "            pass\n",
    "    result.append(temp2)"
   ]
  },
  {
   "cell_type": "code",
   "execution_count": 73,
   "metadata": {},
   "outputs": [],
   "source": [
    "result = pd.DataFrame(result)\n",
    "result.columns = ['Sentiment']\n",
    "\n",
    "df = df.reset_index().drop(['index'], axis= 1)\n",
    "df = pd.concat([df, result], axis=1)"
   ]
  },
  {
   "cell_type": "code",
   "execution_count": 75,
   "metadata": {},
   "outputs": [
    {
     "data": {
      "text/html": [
       "<div>\n",
       "<style scoped>\n",
       "    .dataframe tbody tr th:only-of-type {\n",
       "        vertical-align: middle;\n",
       "    }\n",
       "\n",
       "    .dataframe tbody tr th {\n",
       "        vertical-align: top;\n",
       "    }\n",
       "\n",
       "    .dataframe thead th {\n",
       "        text-align: right;\n",
       "    }\n",
       "</style>\n",
       "<table border=\"1\" class=\"dataframe\">\n",
       "  <thead>\n",
       "    <tr style=\"text-align: right;\">\n",
       "      <th></th>\n",
       "      <th>click_count</th>\n",
       "      <th>date</th>\n",
       "      <th>description</th>\n",
       "      <th>opinion</th>\n",
       "      <th>rank</th>\n",
       "      <th>rec</th>\n",
       "      <th>code</th>\n",
       "      <th>0</th>\n",
       "    </tr>\n",
       "  </thead>\n",
       "  <tbody>\n",
       "    <tr>\n",
       "      <th>0</th>\n",
       "      <td>84</td>\n",
       "      <td>2018.11.23 20:14</td>\n",
       "      <td>ㅎㅎㅎ 뭐가 있네 있어 ㅋ</td>\n",
       "      <td>의견없음</td>\n",
       "      <td>1번째 페이지의 19번째_게시글</td>\n",
       "      <td>0</td>\n",
       "      <td>234100</td>\n",
       "      <td>0</td>\n",
       "    </tr>\n",
       "    <tr>\n",
       "      <th>1</th>\n",
       "      <td>84</td>\n",
       "      <td>2018.11.23 20:14</td>\n",
       "      <td>ㅋㅋㅋㅋ</td>\n",
       "      <td>의견없음</td>\n",
       "      <td>1번째 페이지의 18번째_게시글</td>\n",
       "      <td>0</td>\n",
       "      <td>234100</td>\n",
       "      <td>0</td>\n",
       "    </tr>\n",
       "    <tr>\n",
       "      <th>2</th>\n",
       "      <td>84</td>\n",
       "      <td>2018.11.23 20:14</td>\n",
       "      <td>세력들 1,500원부터 매집해 지금 마지막 패데기 시점이고\\n\\n지들끼리 사고 팔고...</td>\n",
       "      <td>의견없음</td>\n",
       "      <td>1번째 페이지의 17번째_게시글</td>\n",
       "      <td>0</td>\n",
       "      <td>234100</td>\n",
       "      <td>0</td>\n",
       "    </tr>\n",
       "    <tr>\n",
       "      <th>3</th>\n",
       "      <td>84</td>\n",
       "      <td>2018.11.23 20:14</td>\n",
       "      <td>뇌동매매 하는 거지같은 개미들아 ^^ \\n\\n잘먹고 잘간다~\\n\\n늬들이 있어서 행...</td>\n",
       "      <td>의견없음</td>\n",
       "      <td>1번째 페이지의 16번째_게시글</td>\n",
       "      <td>0</td>\n",
       "      <td>234100</td>\n",
       "      <td>5</td>\n",
       "    </tr>\n",
       "    <tr>\n",
       "      <th>4</th>\n",
       "      <td>84</td>\n",
       "      <td>2018.11.23 20:14</td>\n",
       "      <td>ㅎㅎㅎ</td>\n",
       "      <td>의견없음</td>\n",
       "      <td>1번째 페이지의 15번째_게시글</td>\n",
       "      <td>0</td>\n",
       "      <td>234100</td>\n",
       "      <td>0</td>\n",
       "    </tr>\n",
       "  </tbody>\n",
       "</table>\n",
       "</div>"
      ],
      "text/plain": [
       "  click_count              date  \\\n",
       "0          84  2018.11.23 20:14   \n",
       "1          84  2018.11.23 20:14   \n",
       "2          84  2018.11.23 20:14   \n",
       "3          84  2018.11.23 20:14   \n",
       "4          84  2018.11.23 20:14   \n",
       "\n",
       "                                         description opinion  \\\n",
       "0                                     ㅎㅎㅎ 뭐가 있네 있어 ㅋ    의견없음   \n",
       "1                                               ㅋㅋㅋㅋ    의견없음   \n",
       "2  세력들 1,500원부터 매집해 지금 마지막 패데기 시점이고\\n\\n지들끼리 사고 팔고...    의견없음   \n",
       "3  뇌동매매 하는 거지같은 개미들아 ^^ \\n\\n잘먹고 잘간다~\\n\\n늬들이 있어서 행...    의견없음   \n",
       "4                                                ㅎㅎㅎ    의견없음   \n",
       "\n",
       "                rank rec    code  0  \n",
       "0  1번째 페이지의 19번째_게시글   0  234100  0  \n",
       "1  1번째 페이지의 18번째_게시글   0  234100  0  \n",
       "2  1번째 페이지의 17번째_게시글   0  234100  0  \n",
       "3  1번째 페이지의 16번째_게시글   0  234100  5  \n",
       "4  1번째 페이지의 15번째_게시글   0  234100  0  "
      ]
     },
     "execution_count": 75,
     "metadata": {},
     "output_type": "execute_result"
    }
   ],
   "source": [
    "df.head()"
   ]
  },
  {
   "cell_type": "code",
   "execution_count": 83,
   "metadata": {},
   "outputs": [],
   "source": []
  },
  {
   "cell_type": "code",
   "execution_count": 87,
   "metadata": {},
   "outputs": [
    {
     "data": {
      "text/plain": [
       "<matplotlib.axes._subplots.AxesSubplot at 0x19473faada0>"
      ]
     },
     "execution_count": 87,
     "metadata": {},
     "output_type": "execute_result"
    },
    {
     "data": {
      "image/png": "[encoded data removed]",
      "text/plain": [
       "<matplotlib.figure.Figure at 0x19473b15e10>"
      ]
     },
     "metadata": {},
     "output_type": "display_data"
    }
   ],
   "source": [
    "np.log10(temp['click_count'].astype(np.int)).hist()"
   ]
  },
  {
   "cell_type": "code",
   "execution_count": null,
   "metadata": {},
   "outputs": [],
   "source": [
    "date"
   ]
  }
 ],
 "metadata": {
  "kernelspec": {
   "display_name": "Python 3",
   "language": "python",
   "name": "python3"
  },
  "language_info": {
   "codemirror_mode": {
    "name": "ipython",
    "version": 3
   },
   "file_extension": ".py",
   "mimetype": "text/x-python",
   "name": "python",
   "nbconvert_exporter": "python",
   "pygments_lexer": "ipython3",
   "version": "3.6.4"
  }
 },
 "nbformat": 4,
 "nbformat_minor": 2
}
